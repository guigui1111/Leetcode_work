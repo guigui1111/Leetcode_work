{
 "cells": [
  {
   "cell_type": "code",
   "execution_count": null,
   "metadata": {},
   "outputs": [],
   "source": [
    "#No.1\n",
    "#Search Insert Position\n",
    "#Given a sorted array and a target value, return the index if the target is found. If not, return the index where it would be if it were inserted in order.\n",
    "#链接：https://leetcode-cn.com/problems/search-insert-position\n"
   ]
  },
  {
   "cell_type": "code",
   "execution_count": 4,
   "metadata": {},
   "outputs": [],
   "source": [
    "class Solution:\n",
    "    def searchInsert(self, nums, target):\n",
    "        if target in nums:\n",
    "            return nums.index(target)\n",
    "        else:\n",
    "            nums.append(target)\n",
    "            nums.sort()\n",
    "            return nums.index(target)"
   ]
  },
  {
   "cell_type": "code",
   "execution_count": 7,
   "metadata": {},
   "outputs": [
    {
     "data": {
      "text/plain": [
       "2"
      ]
     },
     "execution_count": 7,
     "metadata": {},
     "output_type": "execute_result"
    }
   ],
   "source": [
    "ans = Solution()\n",
    "ans.searchInsert([1,3,5,6],5)"
   ]
  },
  {
   "cell_type": "code",
   "execution_count": 26,
   "metadata": {},
   "outputs": [
    {
     "data": {
      "text/plain": [
       "4"
      ]
     },
     "execution_count": 26,
     "metadata": {},
     "output_type": "execute_result"
    }
   ],
   "source": [
    "#Binary search\n",
    "class Solution:\n",
    "    def searchInsert(self,nums,target):    \n",
    "        if target > nums[len(nums)-1]:\n",
    "            return len(nums)\n",
    "        elif target < nums[0]:\n",
    "            return 0\n",
    "        else:\n",
    "            low = 0                         # 最小数下标    \n",
    "            high = len(nums) - 1       # 最大数下标    \n",
    "            while low <= high:\n",
    "                #print(\"high\",high)\n",
    "                #print(\"low\",low)\n",
    "                mid = (low + high) // 2     # 中间数下标        \n",
    "                if nums[mid] == target:   # 如果中间数下标等于val, 返回            \n",
    "                    return mid        \n",
    "                elif nums[mid] > target:  # 如果val在中间数左边, 移动high下标            \n",
    "                    high = mid - 1        \n",
    "                else:                       # 如果val在中间数右边, 移动low下标            \n",
    "                    low = mid + 1    \n",
    "            return low\n",
    "ans = Solution()\n",
    "ans.searchInsert([1,3,5,6],7)"
   ]
  },
  {
   "cell_type": "code",
   "execution_count": null,
   "metadata": {},
   "outputs": [],
   "source": [
    "#No.2 \n",
    "#Count and Say\n",
    "#Given an integer n where 1 ≤ n ≤ 30, generate the nth term of the count-and-say sequence.\n",
    "#链接：https://leetcode-cn.com/problems/count-and-say\n",
    "\n",
    "\n"
   ]
  }
 ],
 "metadata": {
  "kernelspec": {
   "display_name": "Python 3",
   "language": "python",
   "name": "python3"
  },
  "language_info": {
   "codemirror_mode": {
    "name": "ipython",
    "version": 3
   },
   "file_extension": ".py",
   "mimetype": "text/x-python",
   "name": "python",
   "nbconvert_exporter": "python",
   "pygments_lexer": "ipython3",
   "version": "3.7.1"
  }
 },
 "nbformat": 4,
 "nbformat_minor": 2
}
