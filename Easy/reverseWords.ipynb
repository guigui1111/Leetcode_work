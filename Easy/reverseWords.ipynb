{
 "cells": [
  {
   "cell_type": "code",
   "execution_count": null,
   "metadata": {},
   "outputs": [],
   "source": [
    "#Reverse words in a given string"
   ]
  },
  {
   "cell_type": "code",
   "execution_count": 1,
   "metadata": {},
   "outputs": [],
   "source": [
    "class Solution:\n",
    "    def reverseWords(x):\n",
    "        \"\"\"\n",
    "        :x type: string\n",
    "        :rtype: string\n",
    "        \"\"\"\n",
    "        words = x.split(\" \")\n",
    "        re_words = []\n",
    "        for word in words:\n",
    "            re_words.insert(0,word)\n",
    "            print(re_words)\n",
    "        return \" \".join(re_words)"
   ]
  },
  {
   "cell_type": "code",
   "execution_count": 2,
   "metadata": {},
   "outputs": [
    {
     "name": "stdout",
     "output_type": "stream",
     "text": [
      "['i']\n",
      "['like', 'i']\n",
      "['this', 'like', 'i']\n",
      "['program', 'this', 'like', 'i']\n",
      "['very', 'program', 'this', 'like', 'i']\n",
      "['much', 'very', 'program', 'this', 'like', 'i']\n"
     ]
    },
    {
     "data": {
      "text/plain": [
       "'much very program this like i'"
      ]
     },
     "execution_count": 2,
     "metadata": {},
     "output_type": "execute_result"
    }
   ],
   "source": [
    "ans = Solution\n",
    "ans.reverseWords(\"i like this program very much\")"
   ]
  },
  {
   "cell_type": "code",
   "execution_count": 8,
   "metadata": {},
   "outputs": [
    {
     "name": "stdout",
     "output_type": "stream",
     "text": [
      "['much', 'very', 'program', 'this', 'like', 'i', 'good']\n",
      "['much', 'good', 'very', 'program', 'this', 'like', 'i', 'good']\n",
      "['much', 'good', 'very', 'program', 'this', 'like', 'i', 'good', 'very', 'good']\n",
      "1, 2, 3, 4\n"
     ]
    }
   ],
   "source": [
    "#retro\n",
    "# list.append(elem) -- adds a single element to the end of the list. ...\n",
    "# list.insert(index, elem) -- inserts the element at the given index, shifting elements to the right.\n",
    "# list.extend(list2) adds the elements in list2 to the end of the list.\n",
    "tep = ['much', 'very', 'program', 'this', 'like', 'i']\n",
    "tep.append('good')\n",
    "print(tep)\n",
    "tep.insert(1,'good')\n",
    "print(tep)\n",
    "tep.extend(['very','good'])\n",
    "print(tep)\n",
    "\n",
    "#The join() method returns a string concatenated with the elements of an iterable.\n",
    "numList = ['1', '2', '3', '4']\n",
    "seperator = ', '\n",
    "print(seperator.join(numList))"
   ]
  },
  {
   "cell_type": "code",
   "execution_count": null,
   "metadata": {},
   "outputs": [],
   "source": []
  }
 ],
 "metadata": {
  "kernelspec": {
   "display_name": "Python 3",
   "language": "python",
   "name": "python3"
  },
  "language_info": {
   "codemirror_mode": {
    "name": "ipython",
    "version": 3
   },
   "file_extension": ".py",
   "mimetype": "text/x-python",
   "name": "python",
   "nbconvert_exporter": "python",
   "pygments_lexer": "ipython3",
   "version": "3.6.6"
  }
 },
 "nbformat": 4,
 "nbformat_minor": 2
}
