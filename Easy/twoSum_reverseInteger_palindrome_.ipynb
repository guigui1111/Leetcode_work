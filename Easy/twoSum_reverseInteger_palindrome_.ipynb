{
 "cells": [
  {
   "cell_type": "code",
   "execution_count": 1,
   "metadata": {},
   "outputs": [],
   "source": [
    "#Question 1:\n",
    "#(two sum):\n",
    "#Given an array of integers, return indices of the two numbers such that they add up to a specific target.\n",
    "#You may assume that each input would have exactly one solution, and you may not use the same element twice.\n",
    "#link: https://leetcode-cn.com/problems/two-sum/"
   ]
  },
  {
   "cell_type": "code",
   "execution_count": 2,
   "metadata": {},
   "outputs": [],
   "source": [
    "class Solution:\n",
    "    def twoSum(self, nums, target):\n",
    "        \"\"\"\n",
    "        :type nums: List[int]\n",
    "        :type target: int\n",
    "        :rtype: List[int]\n",
    "        \"\"\"\n",
    "        hashmap = {}\n",
    "        for index, num in enumerate(nums):\n",
    "            another_num = target - num\n",
    "            if another_num in hashmap:\n",
    "                return [hashmap[another_num], index]\n",
    "            hashmap[num] = index\n",
    "            #print(hashmap[num])\n",
    "        return None"
   ]
  },
  {
   "cell_type": "code",
   "execution_count": 3,
   "metadata": {},
   "outputs": [
    {
     "data": {
      "text/plain": [
       "[0, 3]"
      ]
     },
     "execution_count": 3,
     "metadata": {},
     "output_type": "execute_result"
    }
   ],
   "source": [
    "sol = Solution()\n",
    "sol.twoSum([2, 7, 11, 15],17)"
   ]
  },
  {
   "cell_type": "code",
   "execution_count": 4,
   "metadata": {},
   "outputs": [
    {
     "name": "stdout",
     "output_type": "stream",
     "text": [
      "[(0, 2), (1, 7), (2, 11), (3, 15)]\n",
      "[(0, 'Spring'), (1, 'Summer'), (2, 'Fall'), (3, 'Winter')]\n",
      "[(1, 'Spring'), (2, 'Summer'), (3, 'Fall'), (4, 'Winter')]\n",
      "0 one\n",
      "1 two\n",
      "2 three\n"
     ]
    }
   ],
   "source": [
    "#retro:\n",
    "#enumerate list: \n",
    "list_a = [2, 7, 11, 15]\n",
    "print(list(enumerate(list_a)))\n",
    "seasons = ['Spring', 'Summer', 'Fall', 'Winter']\n",
    "print(list(enumerate(seasons)))\n",
    "print(list(enumerate(seasons, start=1)))      # 下标从 1 开始\n",
    "\n",
    "seq = ['one', 'two', 'three']\n",
    "for i, element in enumerate(seq):\n",
    "    print(i, element)"
   ]
  },
  {
   "cell_type": "code",
   "execution_count": null,
   "metadata": {},
   "outputs": [],
   "source": [
    "#Question 2:\n",
    "#(Reverse Integer):\n",
    "#Given a 32-bit signed integer, reverse digits of an integer.\n",
    "#link: https://leetcode-cn.com/problems/reverse-integer/"
   ]
  },
  {
   "cell_type": "code",
   "execution_count": 41,
   "metadata": {},
   "outputs": [],
   "source": [
    "class Solution:\n",
    "    def reverse(self, x):\n",
    "        \"\"\"\n",
    "        :type x: int\n",
    "        :rtype: int\n",
    "        \"\"\"\n",
    "        if x ==0:\n",
    "            return 0\n",
    "        str_x = str(x)\n",
    "        x=''\n",
    "        if str_x[0] == '-':\n",
    "            x+= '-'\n",
    "        x += str_x[len(str_x)-1::-1].lstrip(\"0\").rstrip(\"-\")\n",
    "        x= int(x)\n",
    "        if -2**31<x<2**31-1:\n",
    "            return x\n",
    "        return 0"
   ]
  },
  {
   "cell_type": "code",
   "execution_count": 42,
   "metadata": {},
   "outputs": [
    {
     "data": {
      "text/plain": [
       "94671"
      ]
     },
     "execution_count": 42,
     "metadata": {},
     "output_type": "execute_result"
    }
   ],
   "source": [
    "sol = Solution()\n",
    "sol.reverse(176490)"
   ]
  },
  {
   "cell_type": "code",
   "execution_count": 46,
   "metadata": {},
   "outputs": [
    {
     "name": "stdout",
     "output_type": "stream",
     "text": [
      "123\n"
     ]
    }
   ],
   "source": [
    "#retro:\n",
    "#The lstrip() method returns a copy of the string with leading characters removed (based on the string argument passed).\n",
    "#The rstrip() method removes any trailing characters (characters at the end a string), space is the default trailing character to remove.\n",
    "tep = '00123-'\n",
    "print(tep.lstrip(\"0\").rstrip(\"-\"))"
   ]
  },
  {
   "cell_type": "code",
   "execution_count": null,
   "metadata": {},
   "outputs": [],
   "source": [
    "#Question 3:\n",
    "#(Palindrome Number):\n",
    "#Determine whether an integer is a palindrome. An integer is a palindrome when it reads the same backward as forward.\n",
    "#link: https://leetcode-cn.com/problems/palindrome-number/"
   ]
  },
  {
   "cell_type": "code",
   "execution_count": 50,
   "metadata": {},
   "outputs": [],
   "source": [
    "class Solution:\n",
    "    def isPalindrome(self, x):\n",
    "        \"\"\"\n",
    "        :type x: int\n",
    "        :rtype: bool\n",
    "        \"\"\"\n",
    "        if x < 0:\n",
    "            return False\n",
    "        else:\n",
    "            y = str(x)[::-1]\n",
    "            if y == str(x):\n",
    "                return True\n",
    "            else: \n",
    "                return False"
   ]
  },
  {
   "cell_type": "code",
   "execution_count": 51,
   "metadata": {},
   "outputs": [
    {
     "data": {
      "text/plain": [
       "False"
      ]
     },
     "execution_count": 51,
     "metadata": {},
     "output_type": "execute_result"
    }
   ],
   "source": [
    "sol = Solution()\n",
    "sol.isPalindrome(176490)"
   ]
  },
  {
   "cell_type": "code",
   "execution_count": null,
   "metadata": {},
   "outputs": [],
   "source": [
    "#retro:"
   ]
  },
  {
   "cell_type": "code",
   "execution_count": null,
   "metadata": {},
   "outputs": [],
   "source": [
    "#Question 4:\n",
    "#(Roman to Integer):\n",
    "#Roman numerals are represented by seven different symbols: I, V, X, L, C, D and M.\n",
    "#link: https://leetcode-cn.com/problems/roman-to-integer/"
   ]
  },
  {
   "cell_type": "code",
   "execution_count": 87,
   "metadata": {},
   "outputs": [],
   "source": [
    "class Solution:\n",
    "    def RomanToInteger(self,x):\n",
    "        \"\"\"\n",
    "        :type x: str\n",
    "        :rtype: int\n",
    "        \"\"\"\n",
    "        my_dic = {'I': 1,'V': 5,'X': 10,'L': 50,'C': 100,'D': 500,'M': 1000}\n",
    "        my_ans = 0\n",
    "        for i in range(len(x)):\n",
    "            if (i < len(x)-1) and (my_dic[x[i]]< my_dic[x[i+1]]):\n",
    "                my_ans-=my_dic[x[i]]\n",
    "                \n",
    "            else:\n",
    "                my_ans+=my_dic[x[i]]\n",
    "            print(my_ans)\n",
    "        return my_ans"
   ]
  },
  {
   "cell_type": "code",
   "execution_count": 88,
   "metadata": {},
   "outputs": [
    {
     "name": "stdout",
     "output_type": "stream",
     "text": [
      "10\n",
      "5\n",
      "55\n"
     ]
    },
    {
     "data": {
      "text/plain": [
       "55"
      ]
     },
     "execution_count": 88,
     "metadata": {},
     "output_type": "execute_result"
    }
   ],
   "source": [
    "sol = Solution()\n",
    "sol.RomanToInteger('XVL')"
   ]
  },
  {
   "cell_type": "code",
   "execution_count": 89,
   "metadata": {},
   "outputs": [
    {
     "data": {
      "text/plain": [
       "range(0, 2)"
      ]
     },
     "execution_count": 89,
     "metadata": {},
     "output_type": "execute_result"
    }
   ],
   "source": [
    "#retro:\n",
    "range(len('XVL')-1)"
   ]
  },
  {
   "cell_type": "code",
   "execution_count": null,
   "metadata": {},
   "outputs": [],
   "source": [
    "#Question 5:\n",
    "#(Longest Common Prefix):\n",
    "#Write a function to find the longest common prefix string amongst an array of strings.\n",
    "#If there is no common prefix, return an empty string \"\".\n",
    "#link: https://leetcode-cn.com/problems/longest-common-prefix/\n"
   ]
  },
  {
   "cell_type": "code",
   "execution_count": 90,
   "metadata": {},
   "outputs": [],
   "source": [
    "class Solution:\n",
    "    def longestCommonPrefix(self, strs):\n",
    "        \"\"\"\n",
    "        :type strs: str\n",
    "        :rtype: str\n",
    "        \"\"\"\n",
    "        if not strs: return \"\"\n",
    "        s1 = min(strs)\n",
    "        s2 = max(strs)\n",
    "        for i,x in enumerate(s1):\n",
    "            if x != s2[i]:\n",
    "                return s2[:i]\n",
    "        return s1"
   ]
  },
  {
   "cell_type": "code",
   "execution_count": 91,
   "metadata": {},
   "outputs": [
    {
     "data": {
      "text/plain": [
       "'fl'"
      ]
     },
     "execution_count": 91,
     "metadata": {},
     "output_type": "execute_result"
    }
   ],
   "source": [
    "sol = Solution()\n",
    "sol.longestCommonPrefix([\"flower\",\"flow\",\"flight\"])"
   ]
  },
  {
   "cell_type": "code",
   "execution_count": 93,
   "metadata": {},
   "outputs": [
    {
     "name": "stdout",
     "output_type": "stream",
     "text": [
      "flight\n",
      "flower\n"
     ]
    }
   ],
   "source": [
    "#retro:\n",
    "tep = [\"flower\",\"flow\",\"flight\"]\n",
    "print(min(tep))\n",
    "print(max(tep))"
   ]
  },
  {
   "cell_type": "code",
   "execution_count": null,
   "metadata": {},
   "outputs": [],
   "source": [
    "#Question 6:\n",
    "#(Valid Parentheses):\n",
    "#Given a string containing just the characters '(', ')', '{', '}', '[' and ']', determine if the input string is valid\n",
    "#link: https://leetcode-cn.com/problems/valid-parentheses/"
   ]
  },
  {
   "cell_type": "code",
   "execution_count": 2,
   "metadata": {},
   "outputs": [],
   "source": [
    "class Solution:\n",
    "    def isValid(self, s):\n",
    "        \"\"\"\n",
    "        :type s: str\n",
    "        :rtype: bool\n",
    "        \"\"\"\n",
    "        while '{}' in s or '()' in s or '[]' in s:\n",
    "            s = s.replace('{}', '')\n",
    "            s = s.replace('[]', '')\n",
    "            s = s.replace('()', '')\n",
    "        return s == ''"
   ]
  },
  {
   "cell_type": "code",
   "execution_count": 3,
   "metadata": {},
   "outputs": [
    {
     "data": {
      "text/plain": [
       "True"
      ]
     },
     "execution_count": 3,
     "metadata": {},
     "output_type": "execute_result"
    }
   ],
   "source": [
    "sol = Solution()\n",
    "sol.isValid(\"{[]}\")"
   ]
  },
  {
   "cell_type": "code",
   "execution_count": null,
   "metadata": {},
   "outputs": [],
   "source": [
    "#retro:\n"
   ]
  },
  {
   "cell_type": "code",
   "execution_count": null,
   "metadata": {},
   "outputs": [],
   "source": [
    "#Question 7:\n",
    "#(Merge Two Sorted Lists):\n",
    "#Merge two sorted linked lists and return it as a new list. The new list should be made by splicing together the nodes of the first two lists.\n",
    "#link: https://leetcode-cn.com/problems/merge-two-sorted-lists/"
   ]
  },
  {
   "cell_type": "code",
   "execution_count": null,
   "metadata": {},
   "outputs": [],
   "source": []
  },
  {
   "cell_type": "code",
   "execution_count": null,
   "metadata": {},
   "outputs": [],
   "source": [
    "#Question 8:\n",
    "#(Remove Duplicates from Sorted Array):\n",
    "#Given a sorted array nums, remove the duplicates in-place such that each element appear only once and return the new length.\n",
    "#link: https://leetcode-cn.com/problems/remove-duplicates-from-sorted-array/"
   ]
  },
  {
   "cell_type": "code",
   "execution_count": 9,
   "metadata": {},
   "outputs": [],
   "source": [
    "class Solution:\n",
    "    def removeDuplicates(self, nums):\n",
    "        \"\"\"\n",
    "        ：type nums:list[int]\n",
    "        ：rtype: int\n",
    "        \"\"\"\n",
    "        ans = []\n",
    "        for i in range(len(nums)-1):\n",
    "            if nums[i]< nums[i+1]:\n",
    "                ans.append(nums[i])\n",
    "        ans.append(nums[len(nums)-1])\n",
    "        return ans"
   ]
  },
  {
   "cell_type": "code",
   "execution_count": 21,
   "metadata": {},
   "outputs": [
    {
     "data": {
      "text/plain": [
       "7"
      ]
     },
     "execution_count": 21,
     "metadata": {},
     "output_type": "execute_result"
    }
   ],
   "source": [
    "sol = Solution()\n",
    "sol.removeDuplicates([1,1,2,2,3,5,7,34,67])"
   ]
  },
  {
   "cell_type": "code",
   "execution_count": 16,
   "metadata": {},
   "outputs": [],
   "source": [
    "class Solution:\n",
    "    def removeDuplicates(self, nums):\n",
    "        pre,cur=0,1\n",
    "        while cur<len(nums):       \n",
    "            if nums[pre]==nums[cur]:\n",
    "                nums.pop(cur)\n",
    "                #print(nums)\n",
    "            else:\n",
    "                pre,cur=pre+1,cur+1\n",
    "        return len(nums)\n",
    "\n",
    "#作者：george-26\n",
    "#链接：https://leetcode-cn.com/problems/remove-duplicates-from-sorted-array/solution/python-gan-jue-wo-de-si-lu-zui-jian-dan-by-george-/\n"
   ]
  },
  {
   "cell_type": "code",
   "execution_count": 19,
   "metadata": {},
   "outputs": [
    {
     "data": {
      "text/plain": [
       "[1, 1, 2, 2, 3, 7, 34, 67]"
      ]
     },
     "execution_count": 19,
     "metadata": {},
     "output_type": "execute_result"
    }
   ],
   "source": [
    "#retro\n",
    "tep= [1,1,2,2,3,5,7,34,67]\n",
    "tep.pop(5)\n",
    "tep\n",
    "#The pop() method removes the item at the given index from the list. The method also returns the removed item.\n"
   ]
  },
  {
   "cell_type": "code",
   "execution_count": 20,
   "metadata": {},
   "outputs": [],
   "source": [
    "class Solution:\n",
    "    def removeDuplicates(self, nums):\n",
    "        if not nums: return 0\n",
    "        k = 1\n",
    "        for i in range(1, len(nums)):\n",
    "            if nums[i] != nums[i - 1]:\n",
    "                nums[k] = nums[i]\n",
    "                k += 1\n",
    "        return k\n",
    "\n",
    "#作者：jyd 双指针\n",
    "#链接：https://leetcode-cn.com/problems/remove-duplicates-from-sorted-array/solution/remove-duplicates-from-sorted-array-shuang-zhi-zhe/\n"
   ]
  },
  {
   "cell_type": "code",
   "execution_count": null,
   "metadata": {},
   "outputs": [],
   "source": [
    "#Question 9:\n",
    "#(Remove Element):\n",
    "#Given an array nums and a value val, remove all instances of that value in-place and return the new length.\n",
    "#link: https://leetcode-cn.com/problems/remove-element/"
   ]
  },
  {
   "cell_type": "code",
   "execution_count": 47,
   "metadata": {},
   "outputs": [],
   "source": [
    "class Solution:\n",
    "    def removeElement(self, nums, val):\n",
    "        \"\"\"\n",
    "        :type nums: list[int]\n",
    "        :type val: int\n",
    "        :rtype int\n",
    "        \"\"\"\n",
    "        i = 0\n",
    "        while i < len(nums):\n",
    "            if nums[i] == val:\n",
    "                nums.pop(i)\n",
    "            else:\n",
    "                i+=1\n",
    "        return len(nums)"
   ]
  },
  {
   "cell_type": "code",
   "execution_count": 48,
   "metadata": {},
   "outputs": [
    {
     "data": {
      "text/plain": [
       "2"
      ]
     },
     "execution_count": 48,
     "metadata": {},
     "output_type": "execute_result"
    }
   ],
   "source": [
    "sol = Solution()\n",
    "sol.removeElement([3,2,2,3],3)"
   ]
  },
  {
   "cell_type": "code",
   "execution_count": 41,
   "metadata": {},
   "outputs": [
    {
     "name": "stdout",
     "output_type": "stream",
     "text": [
      "34\n"
     ]
    },
    {
     "ename": "IndexError",
     "evalue": "list index out of range",
     "output_type": "error",
     "traceback": [
      "\u001b[1;31m---------------------------------------------------------------------------\u001b[0m",
      "\u001b[1;31mIndexError\u001b[0m                                Traceback (most recent call last)",
      "\u001b[1;32m<ipython-input-41-d11fc4a46f11>\u001b[0m in \u001b[0;36m<module>\u001b[1;34m\u001b[0m\n\u001b[0;32m      1\u001b[0m \u001b[0mtep\u001b[0m\u001b[1;33m=\u001b[0m \u001b[1;33m[\u001b[0m\u001b[1;36m1\u001b[0m\u001b[1;33m,\u001b[0m\u001b[1;36m1\u001b[0m\u001b[1;33m,\u001b[0m\u001b[1;36m2\u001b[0m\u001b[1;33m,\u001b[0m\u001b[1;36m2\u001b[0m\u001b[1;33m,\u001b[0m\u001b[1;36m3\u001b[0m\u001b[1;33m,\u001b[0m\u001b[1;36m5\u001b[0m\u001b[1;33m,\u001b[0m\u001b[1;36m7\u001b[0m\u001b[1;33m,\u001b[0m\u001b[1;36m34\u001b[0m\u001b[1;33m,\u001b[0m\u001b[1;36m67\u001b[0m\u001b[1;33m]\u001b[0m\u001b[1;33m\u001b[0m\u001b[0m\n\u001b[0;32m      2\u001b[0m \u001b[1;32mfor\u001b[0m \u001b[0mi\u001b[0m \u001b[1;32min\u001b[0m \u001b[0mrange\u001b[0m\u001b[1;33m(\u001b[0m\u001b[0mlen\u001b[0m\u001b[1;33m(\u001b[0m\u001b[0mtep\u001b[0m\u001b[1;33m)\u001b[0m\u001b[1;33m)\u001b[0m\u001b[1;33m:\u001b[0m\u001b[1;33m\u001b[0m\u001b[0m\n\u001b[1;32m----> 3\u001b[1;33m     \u001b[1;32mif\u001b[0m \u001b[0mtep\u001b[0m\u001b[1;33m[\u001b[0m\u001b[0mi\u001b[0m\u001b[1;33m]\u001b[0m \u001b[1;33m==\u001b[0m \u001b[1;36m34\u001b[0m\u001b[1;33m:\u001b[0m\u001b[1;33m\u001b[0m\u001b[0m\n\u001b[0m\u001b[0;32m      4\u001b[0m         \u001b[0mprint\u001b[0m\u001b[1;33m(\u001b[0m\u001b[0mtep\u001b[0m\u001b[1;33m[\u001b[0m\u001b[0mi\u001b[0m\u001b[1;33m]\u001b[0m\u001b[1;33m)\u001b[0m\u001b[1;33m\u001b[0m\u001b[0m\n\u001b[0;32m      5\u001b[0m         \u001b[0mtep\u001b[0m\u001b[1;33m.\u001b[0m\u001b[0mpop\u001b[0m\u001b[1;33m(\u001b[0m\u001b[0mi\u001b[0m\u001b[1;33m)\u001b[0m\u001b[1;33m\u001b[0m\u001b[0m\n",
      "\u001b[1;31mIndexError\u001b[0m: list index out of range"
     ]
    }
   ],
   "source": [
    "#retro. for pop function, take care of the \"index out of range\" problem\n",
    "tep= [1,1,2,2,3,5,7,34,67]\n",
    "for i in range(len(tep)):\n",
    "    if tep[i] == 34:\n",
    "        print(tep[i])\n",
    "        tep.pop(i)\n",
    "print(tep)\n",
    "\n",
    "\n",
    "tep= [1,1,2,2,3,5,7,34,67]\n",
    "i = 0\n",
    "while i < len(tep):\n",
    "    if tep[i] == 34:\n",
    "        print(tep[i])\n",
    "        tep.pop(i)\n",
    "    else:\n",
    "        i+=1\n",
    "print(tep)\n"
   ]
  }
 ],
 "metadata": {
  "kernelspec": {
   "display_name": "Python 3",
   "language": "python",
   "name": "python3"
  },
  "language_info": {
   "codemirror_mode": {
    "name": "ipython",
    "version": 3
   },
   "file_extension": ".py",
   "mimetype": "text/x-python",
   "name": "python",
   "nbconvert_exporter": "python",
   "pygments_lexer": "ipython3",
   "version": "3.6.6"
  }
 },
 "nbformat": 4,
 "nbformat_minor": 2
}
